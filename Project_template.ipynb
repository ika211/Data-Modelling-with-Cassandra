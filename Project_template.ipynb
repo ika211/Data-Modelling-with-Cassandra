{
 "cells": [
  {
   "cell_type": "markdown",
   "source": [
    "# Part I. ETL Pipeline for Pre-Processing the Files\n"
   ],
   "metadata": {
    "collapsed": false
   }
  },
  {
   "cell_type": "markdown",
   "source": [
    "## PLEASE RUN THE FOLLOWING CODE FOR PRE-PROCESSING THE FILES\n"
   ],
   "metadata": {
    "collapsed": false
   }
  },
  {
   "cell_type": "markdown",
   "source": [
    "#### Import Python packages"
   ],
   "metadata": {
    "collapsed": false
   }
  },
  {
   "cell_type": "code",
   "execution_count": 62,
   "outputs": [],
   "source": [
    "import csv\n",
    "import glob\n",
    "import pandas as pd\n",
    "import cassandra\n",
    "import os"
   ],
   "metadata": {
    "collapsed": false,
    "pycharm": {
     "name": "#%%\n"
    }
   }
  },
  {
   "cell_type": "markdown",
   "source": [
    "#### Creating list of filepaths to process original event csv data files"
   ],
   "metadata": {
    "collapsed": false
   }
  },
  {
   "cell_type": "code",
   "execution_count": 63,
   "outputs": [
    {
     "name": "stdout",
     "output_type": "stream",
     "text": [
      "/Users/shaikirfankareemali/PycharmProjects/Data-Modelling-with-Cassandra\n"
     ]
    }
   ],
   "source": [
    "print(os.getcwd())"
   ],
   "metadata": {
    "collapsed": false,
    "pycharm": {
     "name": "#%%\n"
    }
   }
  },
  {
   "cell_type": "code",
   "execution_count": 64,
   "outputs": [
    {
     "name": "stdout",
     "output_type": "stream",
     "text": [
      "/Users/shaikirfankareemali/PycharmProjects/Data-Modelling-with-Cassandra/event_data\n"
     ]
    }
   ],
   "source": [
    "file_path = os.getcwd() + '/event_data'\n",
    "print(file_path)"
   ],
   "metadata": {
    "collapsed": false,
    "pycharm": {
     "name": "#%%\n"
    }
   }
  },
  {
   "cell_type": "code",
   "execution_count": 65,
   "outputs": [],
   "source": [
    "for root, dirs, files in os.walk(file_path):\n",
    "    file_path_list = glob.glob(os.path.join(root, '*'))\n",
    "\n",
    "# print(len(file_path_list))"
   ],
   "metadata": {
    "collapsed": false,
    "pycharm": {
     "name": "#%%\n"
    }
   }
  },
  {
   "cell_type": "markdown",
   "source": [
    "#### Processing the files to create the data file csv that will be used for Apache Cassandra tables."
   ],
   "metadata": {
    "collapsed": false
   }
  },
  {
   "cell_type": "code",
   "execution_count": 66,
   "outputs": [],
   "source": [
    "combined_csv = pd.concat([pd.read_csv(file) for file in file_path_list])\n",
    "combined_csv = combined_csv[combined_csv.artist.notnull()]\n",
    "combined_csv = combined_csv[['artist','firstName','gender','itemInSession','lastName','length','level','location','sessionId','song','userId']]\n",
    "combined_csv.to_csv(\"event_datafile_new.csv\", index=False, encoding=\"utf-8\")"
   ],
   "metadata": {
    "collapsed": false,
    "pycharm": {
     "name": "#%%\n"
    }
   }
  },
  {
   "cell_type": "markdown",
   "source": [
    "# Part II. Complete the Apache Cassandra coding portion of your project.\n",
    "\n",
    "## Now you are ready to work with the CSV file titled <font color=red>event_datafile_new.csv</font>, located within the Workspace directory.  The event_datafile_new.csv contains the following columns:\n",
    "- artist\n",
    "- firstName of user\n",
    "- gender of user\n",
    "- item number in session\n",
    "- last name of user\n",
    "- length of the song\n",
    "- level (paid or free song)\n",
    "- location of the user\n",
    "- sessionId\n",
    "- song title\n",
    "- userId\n",
    "\n",
    "The image below is a screenshot of what the denormalized data should appear like in the <font color=red>**event_datafile_new.csv**</font> after the code above is run:<br>\n",
    "\n",
    "<img src=\"images/image_event_datafile_new.jpg\">"
   ],
   "metadata": {
    "collapsed": false
   }
  },
  {
   "cell_type": "markdown",
   "source": [
    "## Begin writing your Apache Cassandra code in the cells below"
   ],
   "metadata": {
    "collapsed": false
   }
  },
  {
   "cell_type": "markdown",
   "source": [
    "#### Creating a Cluster"
   ],
   "metadata": {
    "collapsed": false
   }
  },
  {
   "cell_type": "code",
   "execution_count": 67,
   "outputs": [],
   "source": [
    "from cassandra.cluster import Cluster\n",
    "cluster = Cluster()\n",
    "\n",
    "session = cluster.connect()"
   ],
   "metadata": {
    "collapsed": false,
    "pycharm": {
     "name": "#%%\n"
    }
   }
  },
  {
   "cell_type": "code",
   "execution_count": 68,
   "outputs": [
    {
     "data": {
      "text/plain": "<cassandra.cluster.ResultSet at 0x11dae05b0>"
     },
     "execution_count": 68,
     "metadata": {},
     "output_type": "execute_result"
    }
   ],
   "source": [
    "session.execute(\"\"\"\n",
    "                CREATE KEYSPACE IF NOT EXISTS sparkify\n",
    "                WITH REPLICATION = {'class' : 'SimpleStrategy',\n",
    "                    'replication_factor' : 1 }\n",
    "                \"\"\")"
   ],
   "metadata": {
    "collapsed": false,
    "pycharm": {
     "name": "#%%\n"
    }
   }
  },
  {
   "cell_type": "code",
   "execution_count": 69,
   "outputs": [],
   "source": [
    "session.set_keyspace(\"sparkify\")"
   ],
   "metadata": {
    "collapsed": false,
    "pycharm": {
     "name": "#%%\n"
    }
   }
  },
  {
   "cell_type": "markdown",
   "source": [
    "### Now we need to create tables to run the following queries. Remember, with Apache Cassandra you model the database tables on the queries you want to run."
   ],
   "metadata": {
    "collapsed": false
   }
  },
  {
   "cell_type": "markdown",
   "source": [
    "## Create queries to ask the following three questions of the data\n",
    "\n",
    "### 1. Give me the artist, song title and song's length in the music app history that was heard during  sessionId = 338, and itemInSession  = 4\n",
    "\n",
    "\n",
    "### 2. Give me only the following: name of artist, song (sorted by itemInSession) and user (first and last name) for userid = 10, sessionid = 182\n",
    "\n",
    "\n",
    "### 3. Give me every user name (first and last) in my music app history who listened to the song 'All Hands Against His Own'\n"
   ],
   "metadata": {
    "collapsed": false
   }
  },
  {
   "cell_type": "code",
   "execution_count": 70,
   "outputs": [
    {
     "data": {
      "text/plain": "<cassandra.cluster.ResultSet at 0x11a620c40>"
     },
     "execution_count": 70,
     "metadata": {},
     "output_type": "execute_result"
    }
   ],
   "source": [
    "# Query-1\n",
    "# Give the artist, song title and length in the music app history that was heard during sessionId = 338 and itemInSession = 4\n",
    "\n",
    "session.execute(\"\"\"\n",
    "                CREATE TABLE IF NOT EXISTS song_sessions(\n",
    "                    session_id int,\n",
    "                    item_in_session int,\n",
    "                    artist text,\n",
    "                    song_title text,\n",
    "                    song_length float,\n",
    "                    PRIMARY KEY(session_id, item_in_session)\n",
    "                )\n",
    "                \"\"\")"
   ],
   "metadata": {
    "collapsed": false,
    "pycharm": {
     "name": "#%%\n"
    }
   }
  },
  {
   "cell_type": "code",
   "execution_count": 72,
   "outputs": [
    {
     "name": "stdout",
     "output_type": "stream",
     "text": [
      "INSERTED SUCCESSFULLY!\n"
     ]
    }
   ],
   "source": [
    "event_data_path = 'event_datafile_new.csv'\n",
    "\n",
    "with open(event_data_path, encoding='utf8') as f:\n",
    "    csvreader = csv.reader(f)\n",
    "    next(csvreader)\n",
    "    for line in csvreader:\n",
    "        query = \"INSERT INTO song_sessions(session_id, item_in_session, artist, song_title, song_length)\"\n",
    "        query += \" VALUES (%s, %s, %s, %s, %s)\"\n",
    "        artist, first_name, gender, itemInSession, last_name, length, level, location, sessionId, song, userId = line\n",
    "        session.execute(query,(int(sessionId), int(itemInSession), artist, song, float(length)))\n",
    "print(\"INSERTED SUCCESSFULLY!\")"
   ],
   "metadata": {
    "collapsed": false,
    "pycharm": {
     "name": "#%%\n"
    }
   }
  },
  {
   "cell_type": "code",
   "execution_count": 73,
   "outputs": [
    {
     "name": "stdout",
     "output_type": "stream",
     "text": [
      "artist, song_title, song_length\n",
      "Faithless ,  Music Matters (Mark Knight Dub) ,  495.30731201171875\n"
     ]
    }
   ],
   "source": [
    "result = session.execute(\"SELECT artist, song_title, song_length FROM song_sessions WHERE session_id = 338 AND item_in_session = 4\")\n",
    "\n",
    "print(\"artist, song_title, song_length\")\n",
    "\n",
    "for row in result:\n",
    "    print(row.artist,\", \", row.song_title,\", \", row.song_length)"
   ],
   "metadata": {
    "collapsed": false,
    "pycharm": {
     "name": "#%%\n"
    }
   }
  },
  {
   "cell_type": "code",
   "execution_count": 74,
   "outputs": [
    {
     "data": {
      "text/plain": "<cassandra.cluster.ResultSet at 0x11e808c10>"
     },
     "execution_count": 74,
     "metadata": {},
     "output_type": "execute_result"
    }
   ],
   "source": [
    "# Query-2\n",
    "# Give only the following: name of artist, song (sorted by itemInSession) and user (first and last name) for userid = 10, sessionid = 182\n",
    "\n",
    "session.execute(\"\"\"\n",
    "                CREATE TABLE IF NOT EXISTS songs_users_sessions(\n",
    "                    user_id int,\n",
    "                    session_id int,\n",
    "                    artist_name text,\n",
    "                    song_title text,\n",
    "                    item_in_session int,\n",
    "                    first_name text,\n",
    "                    last_name text,\n",
    "                    PRIMARY KEY((user_id, session_id), item_in_session)\n",
    "                )\n",
    "                \"\"\")"
   ],
   "metadata": {
    "collapsed": false,
    "pycharm": {
     "name": "#%%\n"
    }
   }
  },
  {
   "cell_type": "code",
   "execution_count": 75,
   "outputs": [
    {
     "name": "stdout",
     "output_type": "stream",
     "text": [
      "INSERTED SUCCESSFULLY!\n"
     ]
    }
   ],
   "source": [
    "event_data_path = 'event_datafile_new.csv'\n",
    "\n",
    "with open(event_data_path, encoding='utf8') as f:\n",
    "    csvreader = csv.reader(f)\n",
    "    next(csvreader)\n",
    "    for line in csvreader:\n",
    "        query2 = \"INSERT INTO songs_users_sessions(user_id, session_id, artist_name, song_title, item_in_session, first_name, last_name) VALUES (%s, %s, %s, %s, %s, %s, %s)\"\n",
    "        artist, first_name, gender, itemInSession, last_name, length, level, location, sessionId, song, userId = line\n",
    "        session.execute(query2,(int(float(userId)), int(sessionId), artist, song, int(itemInSession), first_name, last_name))\n",
    "print(\"INSERTED SUCCESSFULLY!\")"
   ],
   "metadata": {
    "collapsed": false,
    "pycharm": {
     "name": "#%%\n"
    }
   }
  },
  {
   "cell_type": "code",
   "execution_count": 76,
   "outputs": [
    {
     "name": "stdout",
     "output_type": "stream",
     "text": [
      "Artist Name, Song Title, First Name, Last Name\n",
      "\n",
      "Down To The Bone ,  Keep On Keepin' On ,  Sylvie ,  Cruz\n",
      "Three Drives ,  Greece 2000 ,  Sylvie ,  Cruz\n",
      "Sebastien Tellier ,  Kilometer ,  Sylvie ,  Cruz\n",
      "Lonnie Gordon ,  Catch You Baby (Steve Pitron & Max Sanna Radio Edit) ,  Sylvie ,  Cruz\n"
     ]
    }
   ],
   "source": [
    "result2 = session.execute(\"SELECT artist_name, song_title, first_name, last_name \"\n",
    "                          \"FROM songs_users_sessions \"\n",
    "                          \"WHERE user_id = 10 AND session_id = 182\"\n",
    "                          \"ORDER BY item_in_session\")\n",
    "\n",
    "print(\"Artist Name, Song Title, First Name, Last Name\")\n",
    "print()\n",
    "for row in result2:\n",
    "    print(row.artist_name, \", \", row.song_title, \", \", row.first_name, \", \", row.last_name)"
   ],
   "metadata": {
    "collapsed": false,
    "pycharm": {
     "name": "#%%\n"
    }
   }
  },
  {
   "cell_type": "code",
   "execution_count": 77,
   "outputs": [
    {
     "data": {
      "text/plain": "<cassandra.cluster.ResultSet at 0x11da8db20>"
     },
     "execution_count": 77,
     "metadata": {},
     "output_type": "execute_result"
    }
   ],
   "source": [
    "# Query-3\n",
    "# Give me every username (first and last) in my music app history who listened to the song 'All Hands Against His Own'\n",
    "\n",
    "session.execute(\"\"\"\n",
    "                CREATE TABLE IF NOT EXISTS songs_users(\n",
    "                    song_title text,\n",
    "                    user_id int,\n",
    "                    first_name text,\n",
    "                    last_name text,\n",
    "                    PRIMARY KEY(song_title, user_id)\n",
    "                )\n",
    "                \"\"\")"
   ],
   "metadata": {
    "collapsed": false,
    "pycharm": {
     "name": "#%%\n"
    }
   }
  },
  {
   "cell_type": "code",
   "execution_count": 78,
   "outputs": [
    {
     "name": "stdout",
     "output_type": "stream",
     "text": [
      "INSERTED SUCCESSFULLY!\n"
     ]
    }
   ],
   "source": [
    "with open(event_data_path, encoding='utf8') as f:\n",
    "    csvreader = csv.reader(f)\n",
    "    next(csvreader)\n",
    "\n",
    "    for line in csvreader:\n",
    "        query3 = \"INSERT INTO songs_users(song_title, user_id, first_name, last_name) VALUES (%s, %s, %s, %s)\"\n",
    "        artist, first_name, gender, itemInSession, last_name, length, level, location, sessionId, song, userId = line\n",
    "        session.execute(query3,(song, int(float(userId)), first_name, last_name))\n",
    "print(\"INSERTED SUCCESSFULLY!\")"
   ],
   "metadata": {
    "collapsed": false,
    "pycharm": {
     "name": "#%%\n"
    }
   }
  },
  {
   "cell_type": "code",
   "execution_count": 79,
   "outputs": [
    {
     "name": "stdout",
     "output_type": "stream",
     "text": [
      "Jacqueline Lynch\n",
      "Tegan Levine\n",
      "Sara Johnson\n"
     ]
    }
   ],
   "source": [
    "result3 = session.execute(\"SELECT first_name, last_name FROM songs_users WHERE song_title = 'All Hands Against His Own'\")\n",
    "\n",
    "for row in result3:\n",
    "    print(row.first_name, row.last_name)"
   ],
   "metadata": {
    "collapsed": false,
    "pycharm": {
     "name": "#%%\n"
    }
   }
  },
  {
   "cell_type": "markdown",
   "source": [
    "### Drop the tables before closing out the sessions"
   ],
   "metadata": {
    "collapsed": false
   }
  },
  {
   "cell_type": "code",
   "execution_count": 80,
   "outputs": [
    {
     "data": {
      "text/plain": "<cassandra.cluster.ResultSet at 0x11db705b0>"
     },
     "execution_count": 80,
     "metadata": {},
     "output_type": "execute_result"
    }
   ],
   "source": [
    "session.execute(\"DROP TABLE IF EXISTS song_sessions\")\n",
    "session.execute(\"DROP TABLE IF EXISTS songs_users_sessions\")\n",
    "session.execute(\"DROP TABLE IF EXISTS songs_users2\")"
   ],
   "metadata": {
    "collapsed": false,
    "pycharm": {
     "name": "#%%\n"
    }
   }
  },
  {
   "cell_type": "markdown",
   "source": [
    "### Close the session and cluster connection"
   ],
   "metadata": {
    "collapsed": false
   }
  },
  {
   "cell_type": "code",
   "execution_count": 81,
   "outputs": [],
   "source": [
    "session.shutdown()\n",
    "cluster.shutdown()"
   ],
   "metadata": {
    "collapsed": false,
    "pycharm": {
     "name": "#%%\n"
    }
   }
  }
 ],
 "metadata": {
  "kernelspec": {
   "display_name": "Python 3",
   "language": "python",
   "name": "python3"
  },
  "language_info": {
   "codemirror_mode": {
    "name": "ipython",
    "version": 2
   },
   "file_extension": ".py",
   "mimetype": "text/x-python",
   "name": "python",
   "nbconvert_exporter": "python",
   "pygments_lexer": "ipython2",
   "version": "2.7.6"
  }
 },
 "nbformat": 4,
 "nbformat_minor": 0
}